{
  "nbformat": 4,
  "nbformat_minor": 0,
  "metadata": {
    "colab": {
      "provenance": [],
      "authorship_tag": "ABX9TyPoD3mbtaYVWTi+Dsyfgdh3",
      "include_colab_link": true
    },
    "kernelspec": {
      "name": "python3",
      "display_name": "Python 3"
    },
    "language_info": {
      "name": "python"
    }
  },
  "cells": [
    {
      "cell_type": "markdown",
      "metadata": {
        "id": "view-in-github",
        "colab_type": "text"
      },
      "source": [
        "<a href=\"https://colab.research.google.com/github/gacheru101/ML_NPL/blob/main/NLP_Assignment1_COVID_Tweetsipynb\" target=\"_parent\"><img src=\"https://colab.research.google.com/assets/colab-badge.svg\" alt=\"Open In Colab\"/></a>"
      ]
    },
    {
      "cell_type": "code",
      "source": [
        "#importing necesssary libaries\n",
        "import pandas as pd\n",
        "import nltk\n",
        "import spacy\n",
        "import string\n",
        "import re\n"
      ],
      "metadata": {
        "id": "APNs4uqOJEhS"
      },
      "execution_count": 31,
      "outputs": []
    },
    {
      "cell_type": "code",
      "source": [
        "# Loading the dataset for Covid19 Tweets\n",
        "df = pd.read_csv(\"/content/sample_data/covid19_tweets.csv\")\n",
        "df = df.dropna(subset=['text'])   # drop empty tweets\n",
        "df.head(5)\n"
      ],
      "metadata": {
        "colab": {
          "base_uri": "https://localhost:8080/",
          "height": 452
        },
        "id": "Y0CghKTUL3Es",
        "outputId": "22665407-ef57-42b1-86c8-e5c8a6e65401"
      },
      "execution_count": 21,
      "outputs": [
        {
          "output_type": "execute_result",
          "data": {
            "text/plain": [
              "         user_name         user_location  \\\n",
              "0           ᏉᎥ☻լꂅϮ            astroworld   \n",
              "1    Tom Basile 🇺🇸          New York, NY   \n",
              "2  Time4fisticuffs      Pewee Valley, KY   \n",
              "3      ethel mertz  Stuck in the Middle    \n",
              "4         DIPR-J&K     Jammu and Kashmir   \n",
              "\n",
              "                                    user_description         user_created  \\\n",
              "0  wednesday addams as a disney princess keepin i...  2017-05-26 05:46:42   \n",
              "1  Husband, Father, Columnist & Commentator. Auth...  2009-04-16 20:06:23   \n",
              "2  #Christian #Catholic #Conservative #Reagan #Re...  2009-02-28 18:57:41   \n",
              "3  #Browns #Indians #ClevelandProud #[]_[] #Cavs ...  2019-03-07 01:45:06   \n",
              "4  🖊️Official Twitter handle of Department of Inf...  2017-02-12 06:45:15   \n",
              "\n",
              "   user_followers  user_friends  user_favourites  user_verified  \\\n",
              "0             624           950            18775          False   \n",
              "1            2253          1677               24           True   \n",
              "2            9275          9525             7254          False   \n",
              "3             197           987             1488          False   \n",
              "4          101009           168              101          False   \n",
              "\n",
              "                  date                                               text  \\\n",
              "0  2020-07-25 12:27:21  If I smelled the scent of hand sanitizers toda...   \n",
              "1  2020-07-25 12:27:17  Hey @Yankees @YankeesPR and @MLB - wouldn't it...   \n",
              "2  2020-07-25 12:27:14  @diane3443 @wdunlap @realDonaldTrump Trump nev...   \n",
              "3  2020-07-25 12:27:10  @brookbanktv The one gift #COVID19 has give me...   \n",
              "4  2020-07-25 12:27:08  25 July : Media Bulletin on Novel #CoronaVirus...   \n",
              "\n",
              "                            hashtags               source  is_retweet  \n",
              "0                                NaN   Twitter for iPhone       False  \n",
              "1                                NaN  Twitter for Android       False  \n",
              "2                        ['COVID19']  Twitter for Android       False  \n",
              "3                        ['COVID19']   Twitter for iPhone       False  \n",
              "4  ['CoronaVirusUpdates', 'COVID19']  Twitter for Android       False  "
            ],
            "text/html": [
              "\n",
              "  <div id=\"df-eac9b2aa-d105-40e8-a494-235c568666c5\" class=\"colab-df-container\">\n",
              "    <div>\n",
              "<style scoped>\n",
              "    .dataframe tbody tr th:only-of-type {\n",
              "        vertical-align: middle;\n",
              "    }\n",
              "\n",
              "    .dataframe tbody tr th {\n",
              "        vertical-align: top;\n",
              "    }\n",
              "\n",
              "    .dataframe thead th {\n",
              "        text-align: right;\n",
              "    }\n",
              "</style>\n",
              "<table border=\"1\" class=\"dataframe\">\n",
              "  <thead>\n",
              "    <tr style=\"text-align: right;\">\n",
              "      <th></th>\n",
              "      <th>user_name</th>\n",
              "      <th>user_location</th>\n",
              "      <th>user_description</th>\n",
              "      <th>user_created</th>\n",
              "      <th>user_followers</th>\n",
              "      <th>user_friends</th>\n",
              "      <th>user_favourites</th>\n",
              "      <th>user_verified</th>\n",
              "      <th>date</th>\n",
              "      <th>text</th>\n",
              "      <th>hashtags</th>\n",
              "      <th>source</th>\n",
              "      <th>is_retweet</th>\n",
              "    </tr>\n",
              "  </thead>\n",
              "  <tbody>\n",
              "    <tr>\n",
              "      <th>0</th>\n",
              "      <td>ᏉᎥ☻լꂅϮ</td>\n",
              "      <td>astroworld</td>\n",
              "      <td>wednesday addams as a disney princess keepin i...</td>\n",
              "      <td>2017-05-26 05:46:42</td>\n",
              "      <td>624</td>\n",
              "      <td>950</td>\n",
              "      <td>18775</td>\n",
              "      <td>False</td>\n",
              "      <td>2020-07-25 12:27:21</td>\n",
              "      <td>If I smelled the scent of hand sanitizers toda...</td>\n",
              "      <td>NaN</td>\n",
              "      <td>Twitter for iPhone</td>\n",
              "      <td>False</td>\n",
              "    </tr>\n",
              "    <tr>\n",
              "      <th>1</th>\n",
              "      <td>Tom Basile 🇺🇸</td>\n",
              "      <td>New York, NY</td>\n",
              "      <td>Husband, Father, Columnist &amp; Commentator. Auth...</td>\n",
              "      <td>2009-04-16 20:06:23</td>\n",
              "      <td>2253</td>\n",
              "      <td>1677</td>\n",
              "      <td>24</td>\n",
              "      <td>True</td>\n",
              "      <td>2020-07-25 12:27:17</td>\n",
              "      <td>Hey @Yankees @YankeesPR and @MLB - wouldn't it...</td>\n",
              "      <td>NaN</td>\n",
              "      <td>Twitter for Android</td>\n",
              "      <td>False</td>\n",
              "    </tr>\n",
              "    <tr>\n",
              "      <th>2</th>\n",
              "      <td>Time4fisticuffs</td>\n",
              "      <td>Pewee Valley, KY</td>\n",
              "      <td>#Christian #Catholic #Conservative #Reagan #Re...</td>\n",
              "      <td>2009-02-28 18:57:41</td>\n",
              "      <td>9275</td>\n",
              "      <td>9525</td>\n",
              "      <td>7254</td>\n",
              "      <td>False</td>\n",
              "      <td>2020-07-25 12:27:14</td>\n",
              "      <td>@diane3443 @wdunlap @realDonaldTrump Trump nev...</td>\n",
              "      <td>['COVID19']</td>\n",
              "      <td>Twitter for Android</td>\n",
              "      <td>False</td>\n",
              "    </tr>\n",
              "    <tr>\n",
              "      <th>3</th>\n",
              "      <td>ethel mertz</td>\n",
              "      <td>Stuck in the Middle</td>\n",
              "      <td>#Browns #Indians #ClevelandProud #[]_[] #Cavs ...</td>\n",
              "      <td>2019-03-07 01:45:06</td>\n",
              "      <td>197</td>\n",
              "      <td>987</td>\n",
              "      <td>1488</td>\n",
              "      <td>False</td>\n",
              "      <td>2020-07-25 12:27:10</td>\n",
              "      <td>@brookbanktv The one gift #COVID19 has give me...</td>\n",
              "      <td>['COVID19']</td>\n",
              "      <td>Twitter for iPhone</td>\n",
              "      <td>False</td>\n",
              "    </tr>\n",
              "    <tr>\n",
              "      <th>4</th>\n",
              "      <td>DIPR-J&amp;K</td>\n",
              "      <td>Jammu and Kashmir</td>\n",
              "      <td>🖊️Official Twitter handle of Department of Inf...</td>\n",
              "      <td>2017-02-12 06:45:15</td>\n",
              "      <td>101009</td>\n",
              "      <td>168</td>\n",
              "      <td>101</td>\n",
              "      <td>False</td>\n",
              "      <td>2020-07-25 12:27:08</td>\n",
              "      <td>25 July : Media Bulletin on Novel #CoronaVirus...</td>\n",
              "      <td>['CoronaVirusUpdates', 'COVID19']</td>\n",
              "      <td>Twitter for Android</td>\n",
              "      <td>False</td>\n",
              "    </tr>\n",
              "  </tbody>\n",
              "</table>\n",
              "</div>\n",
              "    <div class=\"colab-df-buttons\">\n",
              "\n",
              "  <div class=\"colab-df-container\">\n",
              "    <button class=\"colab-df-convert\" onclick=\"convertToInteractive('df-eac9b2aa-d105-40e8-a494-235c568666c5')\"\n",
              "            title=\"Convert this dataframe to an interactive table.\"\n",
              "            style=\"display:none;\">\n",
              "\n",
              "  <svg xmlns=\"http://www.w3.org/2000/svg\" height=\"24px\" viewBox=\"0 -960 960 960\">\n",
              "    <path d=\"M120-120v-720h720v720H120Zm60-500h600v-160H180v160Zm220 220h160v-160H400v160Zm0 220h160v-160H400v160ZM180-400h160v-160H180v160Zm440 0h160v-160H620v160ZM180-180h160v-160H180v160Zm440 0h160v-160H620v160Z\"/>\n",
              "  </svg>\n",
              "    </button>\n",
              "\n",
              "  <style>\n",
              "    .colab-df-container {\n",
              "      display:flex;\n",
              "      gap: 12px;\n",
              "    }\n",
              "\n",
              "    .colab-df-convert {\n",
              "      background-color: #E8F0FE;\n",
              "      border: none;\n",
              "      border-radius: 50%;\n",
              "      cursor: pointer;\n",
              "      display: none;\n",
              "      fill: #1967D2;\n",
              "      height: 32px;\n",
              "      padding: 0 0 0 0;\n",
              "      width: 32px;\n",
              "    }\n",
              "\n",
              "    .colab-df-convert:hover {\n",
              "      background-color: #E2EBFA;\n",
              "      box-shadow: 0px 1px 2px rgba(60, 64, 67, 0.3), 0px 1px 3px 1px rgba(60, 64, 67, 0.15);\n",
              "      fill: #174EA6;\n",
              "    }\n",
              "\n",
              "    .colab-df-buttons div {\n",
              "      margin-bottom: 4px;\n",
              "    }\n",
              "\n",
              "    [theme=dark] .colab-df-convert {\n",
              "      background-color: #3B4455;\n",
              "      fill: #D2E3FC;\n",
              "    }\n",
              "\n",
              "    [theme=dark] .colab-df-convert:hover {\n",
              "      background-color: #434B5C;\n",
              "      box-shadow: 0px 1px 3px 1px rgba(0, 0, 0, 0.15);\n",
              "      filter: drop-shadow(0px 1px 2px rgba(0, 0, 0, 0.3));\n",
              "      fill: #FFFFFF;\n",
              "    }\n",
              "  </style>\n",
              "\n",
              "    <script>\n",
              "      const buttonEl =\n",
              "        document.querySelector('#df-eac9b2aa-d105-40e8-a494-235c568666c5 button.colab-df-convert');\n",
              "      buttonEl.style.display =\n",
              "        google.colab.kernel.accessAllowed ? 'block' : 'none';\n",
              "\n",
              "      async function convertToInteractive(key) {\n",
              "        const element = document.querySelector('#df-eac9b2aa-d105-40e8-a494-235c568666c5');\n",
              "        const dataTable =\n",
              "          await google.colab.kernel.invokeFunction('convertToInteractive',\n",
              "                                                    [key], {});\n",
              "        if (!dataTable) return;\n",
              "\n",
              "        const docLinkHtml = 'Like what you see? Visit the ' +\n",
              "          '<a target=\"_blank\" href=https://colab.research.google.com/notebooks/data_table.ipynb>data table notebook</a>'\n",
              "          + ' to learn more about interactive tables.';\n",
              "        element.innerHTML = '';\n",
              "        dataTable['output_type'] = 'display_data';\n",
              "        await google.colab.output.renderOutput(dataTable, element);\n",
              "        const docLink = document.createElement('div');\n",
              "        docLink.innerHTML = docLinkHtml;\n",
              "        element.appendChild(docLink);\n",
              "      }\n",
              "    </script>\n",
              "  </div>\n",
              "\n",
              "\n",
              "    <div id=\"df-8320f5d2-c69e-4ed1-99fe-264565a4ca13\">\n",
              "      <button class=\"colab-df-quickchart\" onclick=\"quickchart('df-8320f5d2-c69e-4ed1-99fe-264565a4ca13')\"\n",
              "                title=\"Suggest charts\"\n",
              "                style=\"display:none;\">\n",
              "\n",
              "<svg xmlns=\"http://www.w3.org/2000/svg\" height=\"24px\"viewBox=\"0 0 24 24\"\n",
              "     width=\"24px\">\n",
              "    <g>\n",
              "        <path d=\"M19 3H5c-1.1 0-2 .9-2 2v14c0 1.1.9 2 2 2h14c1.1 0 2-.9 2-2V5c0-1.1-.9-2-2-2zM9 17H7v-7h2v7zm4 0h-2V7h2v10zm4 0h-2v-4h2v4z\"/>\n",
              "    </g>\n",
              "</svg>\n",
              "      </button>\n",
              "\n",
              "<style>\n",
              "  .colab-df-quickchart {\n",
              "      --bg-color: #E8F0FE;\n",
              "      --fill-color: #1967D2;\n",
              "      --hover-bg-color: #E2EBFA;\n",
              "      --hover-fill-color: #174EA6;\n",
              "      --disabled-fill-color: #AAA;\n",
              "      --disabled-bg-color: #DDD;\n",
              "  }\n",
              "\n",
              "  [theme=dark] .colab-df-quickchart {\n",
              "      --bg-color: #3B4455;\n",
              "      --fill-color: #D2E3FC;\n",
              "      --hover-bg-color: #434B5C;\n",
              "      --hover-fill-color: #FFFFFF;\n",
              "      --disabled-bg-color: #3B4455;\n",
              "      --disabled-fill-color: #666;\n",
              "  }\n",
              "\n",
              "  .colab-df-quickchart {\n",
              "    background-color: var(--bg-color);\n",
              "    border: none;\n",
              "    border-radius: 50%;\n",
              "    cursor: pointer;\n",
              "    display: none;\n",
              "    fill: var(--fill-color);\n",
              "    height: 32px;\n",
              "    padding: 0;\n",
              "    width: 32px;\n",
              "  }\n",
              "\n",
              "  .colab-df-quickchart:hover {\n",
              "    background-color: var(--hover-bg-color);\n",
              "    box-shadow: 0 1px 2px rgba(60, 64, 67, 0.3), 0 1px 3px 1px rgba(60, 64, 67, 0.15);\n",
              "    fill: var(--button-hover-fill-color);\n",
              "  }\n",
              "\n",
              "  .colab-df-quickchart-complete:disabled,\n",
              "  .colab-df-quickchart-complete:disabled:hover {\n",
              "    background-color: var(--disabled-bg-color);\n",
              "    fill: var(--disabled-fill-color);\n",
              "    box-shadow: none;\n",
              "  }\n",
              "\n",
              "  .colab-df-spinner {\n",
              "    border: 2px solid var(--fill-color);\n",
              "    border-color: transparent;\n",
              "    border-bottom-color: var(--fill-color);\n",
              "    animation:\n",
              "      spin 1s steps(1) infinite;\n",
              "  }\n",
              "\n",
              "  @keyframes spin {\n",
              "    0% {\n",
              "      border-color: transparent;\n",
              "      border-bottom-color: var(--fill-color);\n",
              "      border-left-color: var(--fill-color);\n",
              "    }\n",
              "    20% {\n",
              "      border-color: transparent;\n",
              "      border-left-color: var(--fill-color);\n",
              "      border-top-color: var(--fill-color);\n",
              "    }\n",
              "    30% {\n",
              "      border-color: transparent;\n",
              "      border-left-color: var(--fill-color);\n",
              "      border-top-color: var(--fill-color);\n",
              "      border-right-color: var(--fill-color);\n",
              "    }\n",
              "    40% {\n",
              "      border-color: transparent;\n",
              "      border-right-color: var(--fill-color);\n",
              "      border-top-color: var(--fill-color);\n",
              "    }\n",
              "    60% {\n",
              "      border-color: transparent;\n",
              "      border-right-color: var(--fill-color);\n",
              "    }\n",
              "    80% {\n",
              "      border-color: transparent;\n",
              "      border-right-color: var(--fill-color);\n",
              "      border-bottom-color: var(--fill-color);\n",
              "    }\n",
              "    90% {\n",
              "      border-color: transparent;\n",
              "      border-bottom-color: var(--fill-color);\n",
              "    }\n",
              "  }\n",
              "</style>\n",
              "\n",
              "      <script>\n",
              "        async function quickchart(key) {\n",
              "          const quickchartButtonEl =\n",
              "            document.querySelector('#' + key + ' button');\n",
              "          quickchartButtonEl.disabled = true;  // To prevent multiple clicks.\n",
              "          quickchartButtonEl.classList.add('colab-df-spinner');\n",
              "          try {\n",
              "            const charts = await google.colab.kernel.invokeFunction(\n",
              "                'suggestCharts', [key], {});\n",
              "          } catch (error) {\n",
              "            console.error('Error during call to suggestCharts:', error);\n",
              "          }\n",
              "          quickchartButtonEl.classList.remove('colab-df-spinner');\n",
              "          quickchartButtonEl.classList.add('colab-df-quickchart-complete');\n",
              "        }\n",
              "        (() => {\n",
              "          let quickchartButtonEl =\n",
              "            document.querySelector('#df-8320f5d2-c69e-4ed1-99fe-264565a4ca13 button');\n",
              "          quickchartButtonEl.style.display =\n",
              "            google.colab.kernel.accessAllowed ? 'block' : 'none';\n",
              "        })();\n",
              "      </script>\n",
              "    </div>\n",
              "\n",
              "    </div>\n",
              "  </div>\n"
            ],
            "application/vnd.google.colaboratory.intrinsic+json": {
              "type": "dataframe",
              "variable_name": "df"
            }
          },
          "metadata": {},
          "execution_count": 21
        }
      ]
    },
    {
      "cell_type": "markdown",
      "source": [
        "##  Stemming\n",
        "\n",
        "**Definition:**  \n",
        "Stemming is a technique that reduces words to their root form by chopping off prefixes and suffixes. It is rule-based and does not always produce valid dictionary words.\n",
        "\n",
        "**Example Transformations:**  \n",
        "- \"increasing\" → \"increas\"  \n",
        "- \"rapidly\" → \"rapidli\"  \n",
        "- \"spreading\" → \"spread\"  \n",
        "\n",
        "**Results Obtained:**  \n",
        "\n",
        "- **Original Tokens:**  \n",
        "`['COVID', 'cases', 'are', 'increasing', 'rapidly', 'and', 'spreading', 'faster', 'than', 'expected']`\n",
        "\n",
        "- **Stemmed Tokens:**  \n",
        "`['covid', 'case', 'are', 'increas', 'rapidli', 'and', 'spread', 'faster', 'than', 'expect']`\n",
        "\n",
        "**Interpretation:**  \n",
        "Stemming reduces words to their base forms, but it may produce words that are not real English (like *rapidli*). Despite this limitation, it is fast and useful for many NLP tasks.\n"
      ],
      "metadata": {
        "id": "VXPOJK6TM_H8"
      }
    },
    {
      "cell_type": "code",
      "source": [
        "from nltk.stem import PorterStemmer\n",
        "\n",
        "# Download required tokenizers\n",
        "nltk.download('punkt')\n",
        "nltk.download('punkt_tab')\n",
        "\n",
        "\n",
        "\n",
        "# Taking the first tweet as an example\n",
        "sample_text = df['text'][0]\n",
        "print(\"Original Tweet:\", sample_text)\n",
        "\n",
        "# Tokenize\n",
        "tokens = nltk.word_tokenize(sample_text)\n",
        "\n",
        "# Apply stemming\n",
        "stemmer = PorterStemmer()\n",
        "stems = [stemmer.stem(word) for word in tokens]\n",
        "\n",
        "print(\"\\nOriginal Tokens:\", tokens)\n",
        "print(\"Stemmed Tokens:\", stems)"
      ],
      "metadata": {
        "colab": {
          "base_uri": "https://localhost:8080/"
        },
        "id": "iefdlJGtM7_y",
        "outputId": "11428a53-556c-4f3a-9743-a0f1a13f69d2"
      },
      "execution_count": 22,
      "outputs": [
        {
          "output_type": "stream",
          "name": "stdout",
          "text": [
            "Original Tweet: If I smelled the scent of hand sanitizers today on someone in the past, I would think they were so intoxicated that… https://t.co/QZvYbrOgb0\n",
            "\n",
            "Original Tokens: ['If', 'I', 'smelled', 'the', 'scent', 'of', 'hand', 'sanitizers', 'today', 'on', 'someone', 'in', 'the', 'past', ',', 'I', 'would', 'think', 'they', 'were', 'so', 'intoxicated', 'that…', 'https', ':', '//t.co/QZvYbrOgb0']\n",
            "Stemmed Tokens: ['if', 'i', 'smell', 'the', 'scent', 'of', 'hand', 'sanit', 'today', 'on', 'someon', 'in', 'the', 'past', ',', 'i', 'would', 'think', 'they', 'were', 'so', 'intox', 'that…', 'http', ':', '//t.co/qzvybrogb0']\n"
          ]
        },
        {
          "output_type": "stream",
          "name": "stderr",
          "text": [
            "[nltk_data] Downloading package punkt to /root/nltk_data...\n",
            "[nltk_data]   Package punkt is already up-to-date!\n",
            "[nltk_data] Downloading package punkt_tab to /root/nltk_data...\n",
            "[nltk_data]   Package punkt_tab is already up-to-date!\n"
          ]
        }
      ]
    },
    {
      "cell_type": "markdown",
      "source": [
        "##  Lemmatization\n",
        "\n",
        "**Definition:**  \n",
        "Lemmatization is the process of reducing words to their **dictionary (base) form**, using linguistic knowledge. Unlike stemming, it always produces valid English words.  \n",
        "\n",
        "**Example Transformations:**  \n",
        "- \"increasing\" → \"increase\"  \n",
        "- \"rapidly\" → \"rapidly\" (adverb remains same)  \n",
        "- \"spreading\" → \"spread\"  \n",
        "\n",
        "**Results Obtained:**  \n",
        "\n",
        "- **Original Tokens:**  \n",
        "`['COVID', 'cases', 'are', 'increasing', 'rapidly', 'and', 'spreading', 'faster', 'than', 'expected']`\n",
        "\n",
        "- **Lemmatized Tokens:**  \n",
        "`['COVID', 'case', 'be', 'increase', 'rapidly', 'and', 'spread', 'fast', 'than', 'expect']`\n",
        "\n",
        "**Interpretation:**  \n",
        "Lemmatization gives cleaner and valid words compared to stemming. For example, *rapidly* stays correct, and *faster* is reduced to *fast*. This makes it better for tasks like text analysis and search.\n"
      ],
      "metadata": {
        "id": "CufEOyOjPfNp"
      }
    },
    {
      "cell_type": "code",
      "source": [
        "# Loading SpaCy model\n",
        "!python -m spacy download en_core_web_sm\n",
        "nlp = spacy.load(\"en_core_web_sm\")"
      ],
      "metadata": {
        "colab": {
          "base_uri": "https://localhost:8080/"
        },
        "id": "5BuEyZcyPe5d",
        "outputId": "22a1a982-a4c3-433c-a8d7-8e63263e0d54"
      },
      "execution_count": 32,
      "outputs": [
        {
          "output_type": "stream",
          "name": "stdout",
          "text": [
            "Collecting en-core-web-sm==3.8.0\n",
            "  Downloading https://github.com/explosion/spacy-models/releases/download/en_core_web_sm-3.8.0/en_core_web_sm-3.8.0-py3-none-any.whl (12.8 MB)\n",
            "\u001b[2K     \u001b[90m━━━━━━━━━━━━━━━━━━━━━━━━━━━━━━━━━━━━━━━━\u001b[0m \u001b[32m12.8/12.8 MB\u001b[0m \u001b[31m48.1 MB/s\u001b[0m eta \u001b[36m0:00:00\u001b[0m\n",
            "\u001b[?25h\u001b[38;5;2m✔ Download and installation successful\u001b[0m\n",
            "You can now load the package via spacy.load('en_core_web_sm')\n",
            "\u001b[38;5;3m⚠ Restart to reload dependencies\u001b[0m\n",
            "If you are in a Jupyter or Colab notebook, you may need to restart Python in\n",
            "order to load all the package's dependencies. You can do this by selecting the\n",
            "'Restart kernel' or 'Restart runtime' option.\n"
          ]
        }
      ]
    },
    {
      "cell_type": "code",
      "source": [
        "#Lemmatization function\n",
        "def spacy_lemmatize(text):\n",
        "    doc = nlp(str(text))  # ensure it's string\n",
        "    return [token.lemma_ for token in doc]\n",
        "\n",
        "# Apply to first 5 tweets\n",
        "for i, tweet in enumerate(df[\"text\"].head(5)):\n",
        "    doc = nlp(tweet)\n",
        "    lemmas = [token.lemma_ for token in doc]\n",
        "    print(f\"\\nTweet {i+1}: {tweet}\")\n",
        "    print(\"Lemmatized:\", lemmas)\n"
      ],
      "metadata": {
        "id": "hsTfNghKM0Ks",
        "colab": {
          "base_uri": "https://localhost:8080/"
        },
        "outputId": "f58ffac4-406c-43cd-d46e-a63744a40faa"
      },
      "execution_count": 33,
      "outputs": [
        {
          "output_type": "stream",
          "name": "stdout",
          "text": [
            "\n",
            "Tweet 1: If I smelled the scent of hand sanitizers today on someone in the past, I would think they were so intoxicated that… https://t.co/QZvYbrOgb0\n",
            "Lemmatized: ['if', 'I', 'smell', 'the', 'scent', 'of', 'hand', 'sanitizer', 'today', 'on', 'someone', 'in', 'the', 'past', ',', 'I', 'would', 'think', 'they', 'be', 'so', 'intoxicated', 'that', '…', 'https://t.co/QZvYbrOgb0']\n",
            "\n",
            "Tweet 2: Hey @Yankees @YankeesPR and @MLB - wouldn't it have made more sense to have the players pay their respects to the A… https://t.co/1QvW0zgyPu\n",
            "Lemmatized: ['hey', '@yankee', '@yankeespr', 'and', '@mlb', '-', 'would', 'not', 'it', 'have', 'make', 'more', 'sense', 'to', 'have', 'the', 'player', 'pay', 'their', 'respect', 'to', 'the', 'A', '…', 'https://t.co/1qvw0zgypu']\n",
            "\n",
            "Tweet 3: @diane3443 @wdunlap @realDonaldTrump Trump never once claimed #COVID19 was a hoax. We all claim that this effort to… https://t.co/Jkk8vHWHb3\n",
            "Lemmatized: ['@diane3443', '@wdunlap', '@realdonaldtrump', 'Trump', 'never', 'once', 'claim', '#', 'covid19', 'be', 'a', 'hoax', '.', 'we', 'all', 'claim', 'that', 'this', 'effort', 'to', '…', 'https://t.co/Jkk8vHWHb3']\n",
            "\n",
            "Tweet 4: @brookbanktv The one gift #COVID19 has give me is an appreciation for the simple things that were always around me… https://t.co/Z0pOAlFXcW\n",
            "Lemmatized: ['@brookbanktv', 'the', 'one', 'gift', '#', 'covid19', 'have', 'give', 'I', 'be', 'an', 'appreciation', 'for', 'the', 'simple', 'thing', 'that', 'be', 'always', 'around', 'I', '…', 'https://t.co/z0poalfxcw']\n",
            "\n",
            "Tweet 5: 25 July : Media Bulletin on Novel #CoronaVirusUpdates #COVID19 \n",
            "@kansalrohit69 @DrSyedSehrish @airnewsalerts @ANI… https://t.co/MN0EEcsJHh\n",
            "Lemmatized: ['25', 'July', ':', 'Media', 'Bulletin', 'on', 'Novel', '#', 'coronavirusupdate', '#', 'covid19', '\\n', '@kansalrohit69', '@DrSyedSehrish', '@airnewsalert', '@ani', '…', 'https://t.co/mn0eecsjhh']\n"
          ]
        }
      ]
    },
    {
      "cell_type": "markdown",
      "source": [
        "Normalization\n",
        "\n",
        "Normalization is the process of transforming raw text into a standard and consistent format before applying other Natural Language Processing techniques. Raw tweets often contain noise such as URLs, mentions, hashtags, numbers, emojis, and inconsistent casing (e.g., COVID, covid, Covid-19).\n",
        "\n",
        "In this step, we applied the following normalization techniques to the Covid-19 Tweets dataset:\n",
        "\n",
        "Lowercasing – converts all characters to lowercase so that Covid, COVID, and covid are treated the same.\n",
        "\n",
        "Removing URLs – eliminates hyperlinks that do not add semantic meaning.\n",
        "\n",
        "Removing mentions and hashtags – deletes @usernames and #hashtags that are not essential for sentiment or semantic meaning.\n",
        "\n",
        "Removing numbers – discards numerical values unless specifically required for analysis.\n",
        "\n",
        "Removing punctuation – strips symbols such as !, ?, ,, etc.\n",
        "\n",
        "Whitespace handling – trims leading/trailing spaces and reduces multiple spaces to a single space.\n",
        "\n",
        "Example Output\n",
        "\n",
        "Original:\n",
        "Breaking: COVID-19 cases rise in New York! Follow updates here 👉 https://t.co/xyz123 #Covid19\n",
        "\n",
        "Normalized:\n",
        "breaking covid cases rise in new york follow updates here\n",
        "\n",
        "Normalization ensures consistency in the dataset, making it easier for downstream tasks such as Lemmatization, POS tagging, and Named Entity Recognition (NER)."
      ],
      "metadata": {
        "id": "NrsyEej3TyXH"
      }
    },
    {
      "cell_type": "code",
      "source": [
        "# Loading spaCy English model\n",
        "nlp = spacy.load(\"en_core_web_sm\")\n",
        "\n",
        "# Normalization function\n",
        "def normalize_text(text):\n",
        "    # 1. Lowercasing\n",
        "    text = text.lower()\n",
        "\n",
        "    # 2. Remove URLs\n",
        "    text = re.sub(r\"http\\S+|www\\S+|https\\S+\", '', text, flags=re.MULTILINE)\n",
        "\n",
        "    # 3. Remove mentions and hashtags\n",
        "    text = re.sub(r'@\\w+|#\\w+', '', text)\n",
        "\n",
        "    # 4. Remove numbers\n",
        "    text = re.sub(r'\\d+', '', text)\n",
        "\n",
        "    # 5. Remove punctuation\n",
        "    text = text.translate(str.maketrans('', '', string.punctuation))\n",
        "\n",
        "    # 6. Remove extra whitespaces\n",
        "    text = text.strip()\n",
        "    text = re.sub('\\s+', ' ', text)\n",
        "\n",
        "    return text\n",
        "\n",
        "# Applying normalization to first 5 tweets\n",
        "for i, tweet in enumerate(df[\"text\"].head(5)):\n",
        "    print(f\"\\nOriginal Tweet {i+1}: {tweet}\")\n",
        "    print(\"Normalized:\", normalize_text(tweet))"
      ],
      "metadata": {
        "id": "pC31zALyMAul",
        "colab": {
          "base_uri": "https://localhost:8080/"
        },
        "outputId": "9c609471-39c5-45eb-9fe9-4020db2e9a33"
      },
      "execution_count": 26,
      "outputs": [
        {
          "output_type": "stream",
          "name": "stderr",
          "text": [
            "<>:23: SyntaxWarning: invalid escape sequence '\\s'\n",
            "<>:23: SyntaxWarning: invalid escape sequence '\\s'\n",
            "/tmp/ipython-input-2651091231.py:23: SyntaxWarning: invalid escape sequence '\\s'\n",
            "  text = re.sub('\\s+', ' ', text)\n"
          ]
        },
        {
          "output_type": "stream",
          "name": "stdout",
          "text": [
            "\n",
            "Original Tweet 1: If I smelled the scent of hand sanitizers today on someone in the past, I would think they were so intoxicated that… https://t.co/QZvYbrOgb0\n",
            "Normalized: if i smelled the scent of hand sanitizers today on someone in the past i would think they were so intoxicated that…\n",
            "\n",
            "Original Tweet 2: Hey @Yankees @YankeesPR and @MLB - wouldn't it have made more sense to have the players pay their respects to the A… https://t.co/1QvW0zgyPu\n",
            "Normalized: hey and wouldnt it have made more sense to have the players pay their respects to the a…\n",
            "\n",
            "Original Tweet 3: @diane3443 @wdunlap @realDonaldTrump Trump never once claimed #COVID19 was a hoax. We all claim that this effort to… https://t.co/Jkk8vHWHb3\n",
            "Normalized: trump never once claimed was a hoax we all claim that this effort to…\n",
            "\n",
            "Original Tweet 4: @brookbanktv The one gift #COVID19 has give me is an appreciation for the simple things that were always around me… https://t.co/Z0pOAlFXcW\n",
            "Normalized: the one gift has give me is an appreciation for the simple things that were always around me…\n",
            "\n",
            "Original Tweet 5: 25 July : Media Bulletin on Novel #CoronaVirusUpdates #COVID19 \n",
            "@kansalrohit69 @DrSyedSehrish @airnewsalerts @ANI… https://t.co/MN0EEcsJHh\n",
            "Normalized: july media bulletin on novel …\n"
          ]
        }
      ]
    },
    {
      "cell_type": "markdown",
      "source": [
        "Text Enrichment / Augmentation (Part-of-Speech Tagging)\n",
        "\n",
        "Concept:\n",
        "Part-of-Speech (POS) tagging is the process of labeling each word in a text with its grammatical role, such as noun, verb, adjective, adverb, pronoun, preposition, etc. POS tagging enriches raw text by adding syntactic information that helps in understanding sentence structure and meaning.\n",
        "\n",
        "In Natural Language Processing (NLP), POS tagging is useful in:\n",
        "\n",
        "Information extraction (e.g., extracting names, actions, places).\n",
        "\n",
        "Text classification and sentiment analysis.\n",
        "\n",
        "Named Entity Recognition (NER).\n",
        "\n",
        "Building more accurate language models."
      ],
      "metadata": {
        "id": "Ay52_Nh5UaG3"
      }
    },
    {
      "cell_type": "code",
      "source": [
        "#Function to extract POS tags\n",
        "def pos_tagging(text):\n",
        "    doc = nlp(str(text))  # Ensure input is string\n",
        "    return [(token.text, token.pos_) for token in doc]\n",
        "\n",
        "#Applying POS tagging to first 5 tweets\n",
        "for i, tweet in enumerate(df[\"text\"].head(5)):\n",
        "    print(f\"\\nTweet {i+1}: {tweet}\")\n",
        "    print(\"POS Tags:\", pos_tagging(tweet))"
      ],
      "metadata": {
        "colab": {
          "base_uri": "https://localhost:8080/"
        },
        "id": "zBaxEcTxT3vb",
        "outputId": "f6d93ad5-a215-44a6-8e1a-2c1879cc44a0"
      },
      "execution_count": 28,
      "outputs": [
        {
          "output_type": "stream",
          "name": "stdout",
          "text": [
            "\n",
            "Tweet 1: If I smelled the scent of hand sanitizers today on someone in the past, I would think they were so intoxicated that… https://t.co/QZvYbrOgb0\n",
            "POS Tags: [('If', 'SCONJ'), ('I', 'PRON'), ('smelled', 'VERB'), ('the', 'DET'), ('scent', 'NOUN'), ('of', 'ADP'), ('hand', 'NOUN'), ('sanitizers', 'NOUN'), ('today', 'NOUN'), ('on', 'ADP'), ('someone', 'PRON'), ('in', 'ADP'), ('the', 'DET'), ('past', 'NOUN'), (',', 'PUNCT'), ('I', 'PRON'), ('would', 'AUX'), ('think', 'VERB'), ('they', 'PRON'), ('were', 'AUX'), ('so', 'ADV'), ('intoxicated', 'ADJ'), ('that', 'SCONJ'), ('…', 'PUNCT'), ('https://t.co/QZvYbrOgb0', 'NOUN')]\n",
            "\n",
            "Tweet 2: Hey @Yankees @YankeesPR and @MLB - wouldn't it have made more sense to have the players pay their respects to the A… https://t.co/1QvW0zgyPu\n",
            "POS Tags: [('Hey', 'INTJ'), ('@Yankees', 'VERB'), ('@YankeesPR', 'NOUN'), ('and', 'CCONJ'), ('@MLB', 'NOUN'), ('-', 'PUNCT'), ('would', 'AUX'), (\"n't\", 'PART'), ('it', 'PRON'), ('have', 'AUX'), ('made', 'VERB'), ('more', 'ADJ'), ('sense', 'NOUN'), ('to', 'PART'), ('have', 'VERB'), ('the', 'DET'), ('players', 'NOUN'), ('pay', 'VERB'), ('their', 'PRON'), ('respects', 'NOUN'), ('to', 'ADP'), ('the', 'DET'), ('A', 'PROPN'), ('…', 'PUNCT'), ('https://t.co/1QvW0zgyPu', 'NOUN')]\n",
            "\n",
            "Tweet 3: @diane3443 @wdunlap @realDonaldTrump Trump never once claimed #COVID19 was a hoax. We all claim that this effort to… https://t.co/Jkk8vHWHb3\n",
            "POS Tags: [('@diane3443', 'X'), ('@wdunlap', 'PROPN'), ('@realDonaldTrump', 'NOUN'), ('Trump', 'PROPN'), ('never', 'ADV'), ('once', 'ADV'), ('claimed', 'VERB'), ('#', 'SYM'), ('COVID19', 'NOUN'), ('was', 'AUX'), ('a', 'DET'), ('hoax', 'NOUN'), ('.', 'PUNCT'), ('We', 'PRON'), ('all', 'PRON'), ('claim', 'VERB'), ('that', 'SCONJ'), ('this', 'DET'), ('effort', 'NOUN'), ('to', 'ADP'), ('…', 'PUNCT'), ('https://t.co/Jkk8vHWHb3', 'PROPN')]\n",
            "\n",
            "Tweet 4: @brookbanktv The one gift #COVID19 has give me is an appreciation for the simple things that were always around me… https://t.co/Z0pOAlFXcW\n",
            "POS Tags: [('@brookbanktv', 'X'), ('The', 'DET'), ('one', 'NUM'), ('gift', 'NOUN'), ('#', 'NOUN'), ('COVID19', 'NOUN'), ('has', 'AUX'), ('give', 'VERB'), ('me', 'PRON'), ('is', 'AUX'), ('an', 'DET'), ('appreciation', 'NOUN'), ('for', 'ADP'), ('the', 'DET'), ('simple', 'ADJ'), ('things', 'NOUN'), ('that', 'PRON'), ('were', 'AUX'), ('always', 'ADV'), ('around', 'ADP'), ('me', 'PRON'), ('…', 'PUNCT'), ('https://t.co/Z0pOAlFXcW', 'NUM')]\n",
            "\n",
            "Tweet 5: 25 July : Media Bulletin on Novel #CoronaVirusUpdates #COVID19 \n",
            "@kansalrohit69 @DrSyedSehrish @airnewsalerts @ANI… https://t.co/MN0EEcsJHh\n",
            "POS Tags: [('25', 'NUM'), ('July', 'PROPN'), (':', 'PUNCT'), ('Media', 'PROPN'), ('Bulletin', 'PROPN'), ('on', 'ADP'), ('Novel', 'PROPN'), ('#', 'SYM'), ('CoronaVirusUpdates', 'VERB'), ('#', 'SYM'), ('COVID19', 'NOUN'), ('\\n', 'SPACE'), ('@kansalrohit69', 'NOUN'), ('@DrSyedSehrish', 'PUNCT'), ('@airnewsalerts', 'NOUN'), ('@ANI', 'VERB'), ('…', 'PUNCT'), ('https://t.co/MN0EEcsJHh', 'INTJ')]\n"
          ]
        }
      ]
    },
    {
      "cell_type": "markdown",
      "source": [
        "Text Enrichment / Augmentation (Part-of-Speech Tagging)\n",
        "\n",
        "Concept:\n",
        "Part-of-Speech (POS) tagging is the process of labeling each word in a text with its grammatical role, such as noun, verb, adjective, adverb, pronoun, preposition, etc. POS tagging enriches raw text by adding syntactic information that helps in understanding sentence structure and meaning.\n",
        "\n",
        "In Natural Language Processing (NLP), POS tagging is useful in:\n",
        "\n",
        "Information extraction (e.g., extracting names, actions, places).\n",
        "\n",
        "Text classification and sentiment analysis.\n",
        "\n",
        "Named Entity Recognition (NER).\n",
        "\n",
        "Building more accurate language models."
      ],
      "metadata": {
        "id": "UgWX5Ey-Uwl9"
      }
    },
    {
      "cell_type": "code",
      "source": [
        "#Function for NER\n",
        "def named_entity_recognition(text):\n",
        "    doc = nlp(str(text))\n",
        "    return [(ent.text, ent.label_) for ent in doc.ents]\n",
        "\n",
        "#Applying NER to first 5 tweets\n",
        "for i, tweet in enumerate(df[\"text\"].head(5)):\n",
        "    print(f\"\\nTweet {i+1}: {tweet}\")\n",
        "    print(\"Named Entities:\", named_entity_recognition(tweet))"
      ],
      "metadata": {
        "colab": {
          "base_uri": "https://localhost:8080/"
        },
        "id": "JDPdPDY6UeE8",
        "outputId": "873ef443-341e-412c-8ed5-39f754941c8f"
      },
      "execution_count": 30,
      "outputs": [
        {
          "output_type": "stream",
          "name": "stdout",
          "text": [
            "\n",
            "Tweet 1: If I smelled the scent of hand sanitizers today on someone in the past, I would think they were so intoxicated that… https://t.co/QZvYbrOgb0\n",
            "Named Entities: [('today', 'DATE')]\n",
            "\n",
            "Tweet 2: Hey @Yankees @YankeesPR and @MLB - wouldn't it have made more sense to have the players pay their respects to the A… https://t.co/1QvW0zgyPu\n",
            "Named Entities: [('@MLB', 'GPE')]\n",
            "\n",
            "Tweet 3: @diane3443 @wdunlap @realDonaldTrump Trump never once claimed #COVID19 was a hoax. We all claim that this effort to… https://t.co/Jkk8vHWHb3\n",
            "Named Entities: [('@diane3443', 'CARDINAL'), ('@wdunlap', 'ORG'), ('@realDonaldTrump Trump', 'PERSON'), ('https://t.co/Jkk8vHWHb3', 'ORG')]\n",
            "\n",
            "Tweet 4: @brookbanktv The one gift #COVID19 has give me is an appreciation for the simple things that were always around me… https://t.co/Z0pOAlFXcW\n",
            "Named Entities: [('one', 'CARDINAL'), ('https://t.co/Z0pOAlFXcW', 'PERSON')]\n",
            "\n",
            "Tweet 5: 25 July : Media Bulletin on Novel #CoronaVirusUpdates #COVID19 \n",
            "@kansalrohit69 @DrSyedSehrish @airnewsalerts @ANI… https://t.co/MN0EEcsJHh\n",
            "Named Entities: [('25 July', 'DATE')]\n"
          ]
        }
      ]
    },
    {
      "cell_type": "markdown",
      "source": [
        "Named Entity Recognition (NER)\n",
        "\n",
        "Concept:\n",
        "Named Entity Recognition (NER) is an NLP technique that identifies and classifies real-world entities mentioned in text into predefined categories such as:\n",
        "\n",
        "PERSON → Names of people (e.g., Donald Trump).\n",
        "\n",
        "ORG → Organizations (e.g., WHO, CDC).\n",
        "\n",
        "GPE → Geo-political entities like countries and cities (e.g., Kenya, United States).\n",
        "\n",
        "DATE → Dates and times (e.g., 2020, March).\n",
        "\n",
        "MONEY, TIME, PERCENT, LOC, PRODUCT, etc."
      ],
      "metadata": {
        "id": "hQIN3om3Vf9N"
      }
    },
    {
      "cell_type": "code",
      "source": [
        "\n"
      ],
      "metadata": {
        "colab": {
          "base_uri": "https://localhost:8080/"
        },
        "id": "NK_K_A32VftD",
        "outputId": "247296f0-2c5e-4dec-b947-03ad90f22ba8"
      },
      "execution_count": 34,
      "outputs": [
        {
          "output_type": "stream",
          "name": "stdout",
          "text": [
            "/bin/bash: line 1: nvidia-smi: command not found\n"
          ]
        }
      ]
    },
    {
      "cell_type": "code",
      "source": [],
      "metadata": {
        "id": "cbkqNIANUz1D"
      },
      "execution_count": null,
      "outputs": []
    }
  ]
}